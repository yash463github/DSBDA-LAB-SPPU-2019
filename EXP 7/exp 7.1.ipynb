{
 "cells": [
  {
   "cell_type": "code",
   "execution_count": 1,
   "id": "bff0fd69",
   "metadata": {},
   "outputs": [],
   "source": [
    "import pandas as pd"
   ]
  },
  {
   "cell_type": "code",
   "execution_count": 2,
   "id": "c4653e40",
   "metadata": {},
   "outputs": [],
   "source": [
    "df = pd.read_excel(\"C:/Users/Yash Dhumal/Desktop/JUPYTER NoteBook/datasets/spam.xlsx\")"
   ]
  },
  {
   "cell_type": "code",
   "execution_count": 3,
   "id": "3220467a",
   "metadata": {},
   "outputs": [
    {
     "data": {
      "text/html": [
       "<div>\n",
       "<style scoped>\n",
       "    .dataframe tbody tr th:only-of-type {\n",
       "        vertical-align: middle;\n",
       "    }\n",
       "\n",
       "    .dataframe tbody tr th {\n",
       "        vertical-align: top;\n",
       "    }\n",
       "\n",
       "    .dataframe thead th {\n",
       "        text-align: right;\n",
       "    }\n",
       "</style>\n",
       "<table border=\"1\" class=\"dataframe\">\n",
       "  <thead>\n",
       "    <tr style=\"text-align: right;\">\n",
       "      <th></th>\n",
       "      <th>Category</th>\n",
       "      <th>Message</th>\n",
       "    </tr>\n",
       "  </thead>\n",
       "  <tbody>\n",
       "    <tr>\n",
       "      <th>0</th>\n",
       "      <td>ham</td>\n",
       "      <td>Go until jurong point, crazy.. Available only ...</td>\n",
       "    </tr>\n",
       "    <tr>\n",
       "      <th>1</th>\n",
       "      <td>ham</td>\n",
       "      <td>Ok lar... Joking wif u oni...</td>\n",
       "    </tr>\n",
       "    <tr>\n",
       "      <th>2</th>\n",
       "      <td>spam</td>\n",
       "      <td>Free entry in 2 a wkly comp to win FA Cup fina...</td>\n",
       "    </tr>\n",
       "    <tr>\n",
       "      <th>3</th>\n",
       "      <td>ham</td>\n",
       "      <td>U dun say so early hor... U c already then say...</td>\n",
       "    </tr>\n",
       "    <tr>\n",
       "      <th>4</th>\n",
       "      <td>ham</td>\n",
       "      <td>Nah I don't think he goes to usf, he lives aro...</td>\n",
       "    </tr>\n",
       "    <tr>\n",
       "      <th>...</th>\n",
       "      <td>...</td>\n",
       "      <td>...</td>\n",
       "    </tr>\n",
       "    <tr>\n",
       "      <th>5567</th>\n",
       "      <td>spam</td>\n",
       "      <td>This is the 2nd time we have tried 2 contact u...</td>\n",
       "    </tr>\n",
       "    <tr>\n",
       "      <th>5568</th>\n",
       "      <td>ham</td>\n",
       "      <td>Will Ã¼ b going to esplanade fr home?</td>\n",
       "    </tr>\n",
       "    <tr>\n",
       "      <th>5569</th>\n",
       "      <td>ham</td>\n",
       "      <td>Pity, * was in mood for that. So...any other s...</td>\n",
       "    </tr>\n",
       "    <tr>\n",
       "      <th>5570</th>\n",
       "      <td>ham</td>\n",
       "      <td>The guy did some bitching but I acted like i'd...</td>\n",
       "    </tr>\n",
       "    <tr>\n",
       "      <th>5571</th>\n",
       "      <td>ham</td>\n",
       "      <td>Rofl. Its true to its name</td>\n",
       "    </tr>\n",
       "  </tbody>\n",
       "</table>\n",
       "<p>5572 rows × 2 columns</p>\n",
       "</div>"
      ],
      "text/plain": [
       "     Category                                            Message\n",
       "0         ham  Go until jurong point, crazy.. Available only ...\n",
       "1         ham                      Ok lar... Joking wif u oni...\n",
       "2        spam  Free entry in 2 a wkly comp to win FA Cup fina...\n",
       "3         ham  U dun say so early hor... U c already then say...\n",
       "4         ham  Nah I don't think he goes to usf, he lives aro...\n",
       "...       ...                                                ...\n",
       "5567     spam  This is the 2nd time we have tried 2 contact u...\n",
       "5568      ham              Will Ã¼ b going to esplanade fr home?\n",
       "5569      ham  Pity, * was in mood for that. So...any other s...\n",
       "5570      ham  The guy did some bitching but I acted like i'd...\n",
       "5571      ham                         Rofl. Its true to its name\n",
       "\n",
       "[5572 rows x 2 columns]"
      ]
     },
     "execution_count": 3,
     "metadata": {},
     "output_type": "execute_result"
    }
   ],
   "source": [
    "df"
   ]
  },
  {
   "cell_type": "code",
   "execution_count": 4,
   "id": "5dd63e61",
   "metadata": {},
   "outputs": [
    {
     "data": {
      "text/html": [
       "<div>\n",
       "<style scoped>\n",
       "    .dataframe tbody tr th:only-of-type {\n",
       "        vertical-align: middle;\n",
       "    }\n",
       "\n",
       "    .dataframe tbody tr th {\n",
       "        vertical-align: top;\n",
       "    }\n",
       "\n",
       "    .dataframe thead th {\n",
       "        text-align: right;\n",
       "    }\n",
       "</style>\n",
       "<table border=\"1\" class=\"dataframe\">\n",
       "  <thead>\n",
       "    <tr style=\"text-align: right;\">\n",
       "      <th></th>\n",
       "      <th>Category</th>\n",
       "      <th>Message</th>\n",
       "    </tr>\n",
       "  </thead>\n",
       "  <tbody>\n",
       "    <tr>\n",
       "      <th>0</th>\n",
       "      <td>ham</td>\n",
       "      <td>Go until jurong point, crazy.. Available only ...</td>\n",
       "    </tr>\n",
       "    <tr>\n",
       "      <th>1</th>\n",
       "      <td>ham</td>\n",
       "      <td>Ok lar... Joking wif u oni...</td>\n",
       "    </tr>\n",
       "    <tr>\n",
       "      <th>2</th>\n",
       "      <td>spam</td>\n",
       "      <td>Free entry in 2 a wkly comp to win FA Cup fina...</td>\n",
       "    </tr>\n",
       "    <tr>\n",
       "      <th>3</th>\n",
       "      <td>ham</td>\n",
       "      <td>U dun say so early hor... U c already then say...</td>\n",
       "    </tr>\n",
       "    <tr>\n",
       "      <th>4</th>\n",
       "      <td>ham</td>\n",
       "      <td>Nah I don't think he goes to usf, he lives aro...</td>\n",
       "    </tr>\n",
       "  </tbody>\n",
       "</table>\n",
       "</div>"
      ],
      "text/plain": [
       "  Category                                            Message\n",
       "0      ham  Go until jurong point, crazy.. Available only ...\n",
       "1      ham                      Ok lar... Joking wif u oni...\n",
       "2     spam  Free entry in 2 a wkly comp to win FA Cup fina...\n",
       "3      ham  U dun say so early hor... U c already then say...\n",
       "4      ham  Nah I don't think he goes to usf, he lives aro..."
      ]
     },
     "execution_count": 4,
     "metadata": {},
     "output_type": "execute_result"
    }
   ],
   "source": [
    "df.head()"
   ]
  },
  {
   "cell_type": "code",
   "execution_count": 5,
   "id": "61948f5c",
   "metadata": {},
   "outputs": [
    {
     "data": {
      "text/html": [
       "<div>\n",
       "<style scoped>\n",
       "    .dataframe tbody tr th:only-of-type {\n",
       "        vertical-align: middle;\n",
       "    }\n",
       "\n",
       "    .dataframe tbody tr th {\n",
       "        vertical-align: top;\n",
       "    }\n",
       "\n",
       "    .dataframe thead th {\n",
       "        text-align: right;\n",
       "    }\n",
       "</style>\n",
       "<table border=\"1\" class=\"dataframe\">\n",
       "  <thead>\n",
       "    <tr style=\"text-align: right;\">\n",
       "      <th></th>\n",
       "      <th>Category</th>\n",
       "      <th>Message</th>\n",
       "    </tr>\n",
       "  </thead>\n",
       "  <tbody>\n",
       "    <tr>\n",
       "      <th>5567</th>\n",
       "      <td>spam</td>\n",
       "      <td>This is the 2nd time we have tried 2 contact u...</td>\n",
       "    </tr>\n",
       "    <tr>\n",
       "      <th>5568</th>\n",
       "      <td>ham</td>\n",
       "      <td>Will Ã¼ b going to esplanade fr home?</td>\n",
       "    </tr>\n",
       "    <tr>\n",
       "      <th>5569</th>\n",
       "      <td>ham</td>\n",
       "      <td>Pity, * was in mood for that. So...any other s...</td>\n",
       "    </tr>\n",
       "    <tr>\n",
       "      <th>5570</th>\n",
       "      <td>ham</td>\n",
       "      <td>The guy did some bitching but I acted like i'd...</td>\n",
       "    </tr>\n",
       "    <tr>\n",
       "      <th>5571</th>\n",
       "      <td>ham</td>\n",
       "      <td>Rofl. Its true to its name</td>\n",
       "    </tr>\n",
       "  </tbody>\n",
       "</table>\n",
       "</div>"
      ],
      "text/plain": [
       "     Category                                            Message\n",
       "5567     spam  This is the 2nd time we have tried 2 contact u...\n",
       "5568      ham              Will Ã¼ b going to esplanade fr home?\n",
       "5569      ham  Pity, * was in mood for that. So...any other s...\n",
       "5570      ham  The guy did some bitching but I acted like i'd...\n",
       "5571      ham                         Rofl. Its true to its name"
      ]
     },
     "execution_count": 5,
     "metadata": {},
     "output_type": "execute_result"
    }
   ],
   "source": [
    "df.tail()"
   ]
  },
  {
   "cell_type": "code",
   "execution_count": 6,
   "id": "82c0fd45",
   "metadata": {},
   "outputs": [
    {
     "data": {
      "text/plain": [
       "Category    0\n",
       "Message     0\n",
       "dtype: int64"
      ]
     },
     "execution_count": 6,
     "metadata": {},
     "output_type": "execute_result"
    }
   ],
   "source": [
    "df.isnull().sum()"
   ]
  },
  {
   "cell_type": "code",
   "execution_count": 7,
   "id": "f0811d6a",
   "metadata": {},
   "outputs": [
    {
     "name": "stdout",
     "output_type": "stream",
     "text": [
      "Defaulting to user installation because normal site-packages is not writeable\n",
      "Requirement already satisfied: NLTK in d:\\programs\\lib\\site-packages (3.8.1)\n",
      "Requirement already satisfied: click in d:\\programs\\lib\\site-packages (from NLTK) (8.0.4)\n",
      "Requirement already satisfied: joblib in d:\\programs\\lib\\site-packages (from NLTK) (1.2.0)\n",
      "Requirement already satisfied: regex>=2021.8.3 in d:\\programs\\lib\\site-packages (from NLTK) (2022.7.9)\n",
      "Requirement already satisfied: tqdm in d:\\programs\\lib\\site-packages (from NLTK) (4.65.0)\n",
      "Requirement already satisfied: colorama in d:\\programs\\lib\\site-packages (from click->NLTK) (0.4.6)\n",
      "Note: you may need to restart the kernel to use updated packages.\n"
     ]
    }
   ],
   "source": [
    "pip install NLTK"
   ]
  },
  {
   "cell_type": "code",
   "execution_count": 8,
   "id": "7fcbb41d",
   "metadata": {},
   "outputs": [],
   "source": [
    "tx=\"The Medical Council of India (MCI) was a statutory body for establishing uniform and high standards of medical education in India until its dissolution on 25 September 2020 when it was replaced by National Medical Commission.[1] The Council granted recognition of medical qualifications, gave accreditation to medical schools, granted registration to medical practitioners, and monitored medical practice in India. The MCI faced persistent criticism for corruption\""
   ]
  },
  {
   "cell_type": "code",
   "execution_count": 11,
   "id": "08d247b1",
   "metadata": {},
   "outputs": [
    {
     "name": "stderr",
     "output_type": "stream",
     "text": [
      "[nltk_data] Downloading package punkt to C:\\Users\\Yash\n",
      "[nltk_data]     Dhumal\\AppData\\Roaming\\nltk_data...\n",
      "[nltk_data]   Unzipping tokenizers\\punkt.zip.\n"
     ]
    },
    {
     "data": {
      "text/plain": [
       "True"
      ]
     },
     "execution_count": 11,
     "metadata": {},
     "output_type": "execute_result"
    }
   ],
   "source": [
    "import nltk\n",
    "nltk.download('punkt')"
   ]
  },
  {
   "cell_type": "code",
   "execution_count": 12,
   "id": "69224cfd",
   "metadata": {},
   "outputs": [],
   "source": [
    "x=sent_tokenize(tx)"
   ]
  },
  {
   "cell_type": "code",
   "execution_count": 13,
   "id": "f7dd7382",
   "metadata": {},
   "outputs": [
    {
     "data": {
      "text/plain": [
       "['The Medical Council of India (MCI) was a statutory body for establishing uniform and high standards of medical education in India until its dissolution on 25 September 2020 when it was replaced by National Medical Commission.',\n",
       " '[1] The Council granted recognition of medical qualifications, gave accreditation to medical schools, granted registration to medical practitioners, and monitored medical practice in India.',\n",
       " 'The MCI faced persistent criticism for corruption']"
      ]
     },
     "execution_count": 13,
     "metadata": {},
     "output_type": "execute_result"
    }
   ],
   "source": [
    "x"
   ]
  },
  {
   "cell_type": "code",
   "execution_count": 14,
   "id": "9561094a",
   "metadata": {},
   "outputs": [],
   "source": [
    "from nltk.tokenize import word_tokenize"
   ]
  },
  {
   "cell_type": "code",
   "execution_count": 15,
   "id": "6067bda3",
   "metadata": {},
   "outputs": [],
   "source": [
    "y=word_tokenize(tx)"
   ]
  },
  {
   "cell_type": "code",
   "execution_count": 16,
   "id": "5c4e212e",
   "metadata": {},
   "outputs": [
    {
     "data": {
      "text/plain": [
       "['The',\n",
       " 'Medical',\n",
       " 'Council',\n",
       " 'of',\n",
       " 'India',\n",
       " '(',\n",
       " 'MCI',\n",
       " ')',\n",
       " 'was',\n",
       " 'a',\n",
       " 'statutory',\n",
       " 'body',\n",
       " 'for',\n",
       " 'establishing',\n",
       " 'uniform',\n",
       " 'and',\n",
       " 'high',\n",
       " 'standards',\n",
       " 'of',\n",
       " 'medical',\n",
       " 'education',\n",
       " 'in',\n",
       " 'India',\n",
       " 'until',\n",
       " 'its',\n",
       " 'dissolution',\n",
       " 'on',\n",
       " '25',\n",
       " 'September',\n",
       " '2020',\n",
       " 'when',\n",
       " 'it',\n",
       " 'was',\n",
       " 'replaced',\n",
       " 'by',\n",
       " 'National',\n",
       " 'Medical',\n",
       " 'Commission',\n",
       " '.',\n",
       " '[',\n",
       " '1',\n",
       " ']',\n",
       " 'The',\n",
       " 'Council',\n",
       " 'granted',\n",
       " 'recognition',\n",
       " 'of',\n",
       " 'medical',\n",
       " 'qualifications',\n",
       " ',',\n",
       " 'gave',\n",
       " 'accreditation',\n",
       " 'to',\n",
       " 'medical',\n",
       " 'schools',\n",
       " ',',\n",
       " 'granted',\n",
       " 'registration',\n",
       " 'to',\n",
       " 'medical',\n",
       " 'practitioners',\n",
       " ',',\n",
       " 'and',\n",
       " 'monitored',\n",
       " 'medical',\n",
       " 'practice',\n",
       " 'in',\n",
       " 'India',\n",
       " '.',\n",
       " 'The',\n",
       " 'MCI',\n",
       " 'faced',\n",
       " 'persistent',\n",
       " 'criticism',\n",
       " 'for',\n",
       " 'corruption']"
      ]
     },
     "execution_count": 16,
     "metadata": {},
     "output_type": "execute_result"
    }
   ],
   "source": [
    "y"
   ]
  },
  {
   "cell_type": "code",
   "execution_count": 21,
   "id": "ed1a97b5",
   "metadata": {},
   "outputs": [
    {
     "name": "stderr",
     "output_type": "stream",
     "text": [
      "[nltk_data] Downloading package stopwords to C:\\Users\\Yash\n",
      "[nltk_data]     Dhumal\\AppData\\Roaming\\nltk_data...\n",
      "[nltk_data]   Unzipping corpora\\stopwords.zip.\n"
     ]
    },
    {
     "data": {
      "text/plain": [
       "True"
      ]
     },
     "execution_count": 21,
     "metadata": {},
     "output_type": "execute_result"
    }
   ],
   "source": [
    "import nltk\n",
    "nltk.download('stopwords')\n"
   ]
  },
  {
   "cell_type": "code",
   "execution_count": 22,
   "id": "9925c4a7",
   "metadata": {},
   "outputs": [
    {
     "name": "stdout",
     "output_type": "stream",
     "text": [
      "{'a', 'from', 'its', 'only', 'shouldn', \"hadn't\", \"should've\", 'having', \"doesn't\", 'ours', 'as', 'will', 'does', 'most', 'himself', 'there', 'each', 'her', 'while', \"haven't\", 'the', 'd', \"weren't\", 'm', 'again', 'doing', 'any', \"wouldn't\", 'above', 'then', 'i', 'under', 'itself', 'whom', 'weren', 'they', 'was', 'into', 'have', 'has', 'y', 'ourselves', 'aren', 's', 'myself', 'why', 'more', 'off', 'we', 'isn', 'yourself', 'not', 'ma', 'them', 've', 'ain', 'yours', 'that', 'both', 'below', 'should', 'of', 'shan', 'll', \"aren't\", 'an', \"won't\", \"you'll\", 'be', 'themselves', 'were', 'other', 'own', 'than', \"wasn't\", \"that'll\", 'to', 'is', 'just', 'theirs', 'very', \"couldn't\", \"didn't\", 'until', 'my', 'against', 'his', 'because', 'am', \"isn't\", 'those', 'so', 'same', 'hers', 'do', 'between', 'needn', 'didn', 'these', 'through', 'during', 'doesn', 'or', 'nor', 'she', 'hadn', 'it', \"she's\", 'on', 'you', \"it's\", 'down', 'our', 'in', 'which', 't', 'can', 'your', 'about', 'don', 'up', \"mustn't\", 'once', 'this', 'when', 'him', 'their', \"you're\", 'over', 'wouldn', 'hasn', \"hasn't\", 'had', 'some', 're', 'me', 'but', 'he', 'are', 'such', 'o', 'and', 'couldn', 'what', \"needn't\", 'how', 'haven', 'mightn', 'few', 'at', 'mustn', \"don't\", \"shouldn't\", 'being', 'did', 'further', 'won', 'after', 'before', 'who', 'too', 'if', \"you've\", \"shan't\", 'for', 'herself', 'where', 'wasn', 'now', 'been', 'all', \"mightn't\", \"you'd\", 'no', 'yourselves', 'here', 'out', 'by', 'with'}\n"
     ]
    }
   ],
   "source": [
    "from nltk.corpus import stopwords\n",
    "\n",
    "stop_words = set(stopwords.words(\"english\"))\n",
    "print(stop_words)"
   ]
  },
  {
   "cell_type": "code",
   "execution_count": 23,
   "id": "14aaa761",
   "metadata": {},
   "outputs": [],
   "source": [
    "txt='I am going to college. Today there is Python Training in Seminar Hall.'"
   ]
  },
  {
   "cell_type": "code",
   "execution_count": 24,
   "id": "8ceffe09",
   "metadata": {},
   "outputs": [],
   "source": [
    "L1=[]\n",
    "for w in stop_words:\n",
    "    for a in txt:\n",
    "        if a==w:\n",
    "            L1.append(txt)"
   ]
  },
  {
   "cell_type": "code",
   "execution_count": 25,
   "id": "ed0a0030",
   "metadata": {},
   "outputs": [
    {
     "data": {
      "text/plain": [
       "['I am going to college. Today there is Python Training in Seminar Hall.',\n",
       " 'I am going to college. Today there is Python Training in Seminar Hall.',\n",
       " 'I am going to college. Today there is Python Training in Seminar Hall.',\n",
       " 'I am going to college. Today there is Python Training in Seminar Hall.',\n",
       " 'I am going to college. Today there is Python Training in Seminar Hall.',\n",
       " 'I am going to college. Today there is Python Training in Seminar Hall.',\n",
       " 'I am going to college. Today there is Python Training in Seminar Hall.',\n",
       " 'I am going to college. Today there is Python Training in Seminar Hall.',\n",
       " 'I am going to college. Today there is Python Training in Seminar Hall.',\n",
       " 'I am going to college. Today there is Python Training in Seminar Hall.',\n",
       " 'I am going to college. Today there is Python Training in Seminar Hall.',\n",
       " 'I am going to college. Today there is Python Training in Seminar Hall.',\n",
       " 'I am going to college. Today there is Python Training in Seminar Hall.',\n",
       " 'I am going to college. Today there is Python Training in Seminar Hall.',\n",
       " 'I am going to college. Today there is Python Training in Seminar Hall.',\n",
       " 'I am going to college. Today there is Python Training in Seminar Hall.',\n",
       " 'I am going to college. Today there is Python Training in Seminar Hall.',\n",
       " 'I am going to college. Today there is Python Training in Seminar Hall.',\n",
       " 'I am going to college. Today there is Python Training in Seminar Hall.',\n",
       " 'I am going to college. Today there is Python Training in Seminar Hall.',\n",
       " 'I am going to college. Today there is Python Training in Seminar Hall.',\n",
       " 'I am going to college. Today there is Python Training in Seminar Hall.',\n",
       " 'I am going to college. Today there is Python Training in Seminar Hall.',\n",
       " 'I am going to college. Today there is Python Training in Seminar Hall.',\n",
       " 'I am going to college. Today there is Python Training in Seminar Hall.']"
      ]
     },
     "execution_count": 25,
     "metadata": {},
     "output_type": "execute_result"
    }
   ],
   "source": [
    "L1"
   ]
  },
  {
   "cell_type": "code",
   "execution_count": null,
   "id": "0712bfd3",
   "metadata": {},
   "outputs": [],
   "source": []
  }
 ],
 "metadata": {
  "kernelspec": {
   "display_name": "Python 3 (ipykernel)",
   "language": "python",
   "name": "python3"
  },
  "language_info": {
   "codemirror_mode": {
    "name": "ipython",
    "version": 3
   },
   "file_extension": ".py",
   "mimetype": "text/x-python",
   "name": "python",
   "nbconvert_exporter": "python",
   "pygments_lexer": "ipython3",
   "version": "3.11.5"
  }
 },
 "nbformat": 4,
 "nbformat_minor": 5
}
