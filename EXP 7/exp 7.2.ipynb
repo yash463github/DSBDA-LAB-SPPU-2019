{
 "cells": [
  {
   "cell_type": "code",
   "execution_count": 1,
   "id": "23a70505",
   "metadata": {},
   "outputs": [],
   "source": [
    "import nltk"
   ]
  },
  {
   "cell_type": "code",
   "execution_count": 2,
   "id": "5e744732",
   "metadata": {},
   "outputs": [
    {
     "name": "stderr",
     "output_type": "stream",
     "text": [
      "[nltk_data] Downloading package punkt to C:\\Users\\Yash\n",
      "[nltk_data]     Dhumal\\AppData\\Roaming\\nltk_data...\n",
      "[nltk_data]   Package punkt is already up-to-date!\n",
      "[nltk_data] Downloading package stopwords to C:\\Users\\Yash\n",
      "[nltk_data]     Dhumal\\AppData\\Roaming\\nltk_data...\n",
      "[nltk_data]   Package stopwords is already up-to-date!\n",
      "[nltk_data] Downloading package wordnet to C:\\Users\\Yash\n",
      "[nltk_data]     Dhumal\\AppData\\Roaming\\nltk_data...\n",
      "[nltk_data] Downloading package averaged_perceptron_tagger to\n",
      "[nltk_data]     C:\\Users\\Yash Dhumal\\AppData\\Roaming\\nltk_data...\n",
      "[nltk_data]   Unzipping taggers\\averaged_perceptron_tagger.zip.\n"
     ]
    },
    {
     "data": {
      "text/plain": [
       "True"
      ]
     },
     "execution_count": 2,
     "metadata": {},
     "output_type": "execute_result"
    }
   ],
   "source": [
    "nltk.download('punkt')\n",
    "nltk.download('stopwords')\n",
    "nltk.download('wordnet')\n",
    "nltk.download('averaged_perceptron_tagger')"
   ]
  },
  {
   "cell_type": "code",
   "execution_count": 3,
   "id": "930804df",
   "metadata": {},
   "outputs": [],
   "source": [
    "text= \"Tokenization is the first step in text analytics. Theprocess of breaking down a text paragraph into smallerchunkssuch as words or sentences is called Tokenization.\""
   ]
  },
  {
   "cell_type": "code",
   "execution_count": 4,
   "id": "d2bd9274",
   "metadata": {},
   "outputs": [
    {
     "name": "stdout",
     "output_type": "stream",
     "text": [
      "['Tokenization is the first step in text analytics.', 'Theprocess of breaking down a text paragraph into smallerchunkssuch as words or sentences is called Tokenization.']\n",
      "['Tokenization', 'is', 'the', 'first', 'step', 'in', 'text', 'analytics', '.', 'Theprocess', 'of', 'breaking', 'down', 'a', 'text', 'paragraph', 'into', 'smallerchunkssuch', 'as', 'words', 'or', 'sentences', 'is', 'called', 'Tokenization', '.']\n"
     ]
    }
   ],
   "source": [
    "#Sentence Tokenization\n",
    "from nltk.tokenize import sent_tokenize\n",
    "tokenized_text= sent_tokenize(text)\n",
    "print(tokenized_text)\n",
    "#Word Tokenization\n",
    "from nltk.tokenize import word_tokenize\n",
    "tokenized_word=word_tokenize(text)\n",
    "print(tokenized_word)"
   ]
  },
  {
   "cell_type": "code",
   "execution_count": 5,
   "id": "b9ceb250",
   "metadata": {},
   "outputs": [
    {
     "name": "stdout",
     "output_type": "stream",
     "text": [
      "{'there', 'has', 'through', 'she', 'itself', \"wasn't\", 's', 'y', 'i', 'into', 'what', 'over', 'needn', 'for', 'of', 'only', 'your', 'if', 'how', 'than', 'should', 'why', 'too', 'a', \"couldn't\", 'll', 're', 'the', 'didn', \"haven't\", 'nor', 'be', 'once', 'don', 'ain', 'doing', 'no', 'those', 'haven', 'so', \"you'd\", \"she's\", 'which', 'under', 'further', 'does', 'wouldn', 'aren', \"shouldn't\", \"weren't\", 'm', 'did', 'all', 'won', \"it's\", 'own', 'himself', \"doesn't\", \"isn't\", \"you've\", 'mustn', 'more', 'its', 'that', 'mightn', 'yours', 'been', 'out', 'when', 'after', 'ma', 'am', 'most', 'herself', 'isn', 'other', 'who', 'shouldn', 'below', 'while', \"aren't\", 'an', 'had', \"wouldn't\", 'with', 'up', 'yourselves', 'hadn', \"hasn't\", 'or', 'to', 'our', 'just', 'before', 'do', \"don't\", 'again', 'very', 'as', 'during', 'they', 'her', \"hadn't\", 'on', 'are', 'o', \"you'll\", 'themselves', \"mightn't\", 'where', 'by', 'in', 'weren', 'down', 'these', 'yourself', 'theirs', 'myself', 'and', 'd', 'it', 'each', 'him', 'ourselves', 'here', 'against', 'being', \"needn't\", 'will', 'wasn', 'doesn', 'shan', 'about', 'then', 'above', 'same', 've', 'we', 'because', \"that'll\", 'this', 'their', \"you're\", 'not', 'is', 'such', \"should've\", 'off', 'but', \"shan't\", 'at', 'couldn', 'whom', 'any', 'between', 'until', 'both', 'can', 'you', 'have', 'having', 'some', 'he', 'was', 'ours', 'them', \"didn't\", 'hers', 'his', 't', 'few', 'me', 'hasn', 'my', 'now', 'were', \"won't\", 'from', \"mustn't\"}\n",
      "Tokenized Sentence: ['how', 'to', 'remove', 'stop', 'words', 'with', 'nltk', 'library', 'inpython']\n",
      "Filterd Sentence: ['remove', 'stop', 'words', 'nltk', 'library', 'inpython']\n"
     ]
    }
   ],
   "source": [
    "# print stop words of English\n",
    "import re\n",
    "from nltk.corpus import stopwords\n",
    "stop_words=set(stopwords.words(\"english\"))\n",
    "print(stop_words)\n",
    "text= \"How to remove stop words with NLTK library inPython?\"\n",
    "text= re.sub('[^a-zA-Z]', ' ',text)\n",
    "tokens = word_tokenize(text.lower())\n",
    "filtered_text=[]\n",
    "for w in tokens:\n",
    "    if w not in stop_words:\n",
    "        filtered_text.append(w)\n",
    "print(\"Tokenized Sentence:\",tokens)\n",
    "print(\"Filterd Sentence:\",filtered_text)"
   ]
  },
  {
   "cell_type": "code",
   "execution_count": 6,
   "id": "90e879e1",
   "metadata": {},
   "outputs": [
    {
     "name": "stdout",
     "output_type": "stream",
     "text": [
      "wait\n"
     ]
    }
   ],
   "source": [
    "from nltk.stem import PorterStemmer\n",
    "e_words= [\"wait\", \"waiting\", \"waited\",\"waits\"]\n",
    "ps =PorterStemmer()\n",
    "for w in e_words:\n",
    "    rootWord=ps.stem(w)\n",
    "print(rootWord)\n"
   ]
  },
  {
   "cell_type": "code",
   "execution_count": 7,
   "id": "9ce26458",
   "metadata": {},
   "outputs": [
    {
     "name": "stdout",
     "output_type": "stream",
     "text": [
      "Lemma for studiesstudying isstudiesstudying\n",
      "Lemma for cries iscry\n",
      "Lemma for cry iscry\n"
     ]
    }
   ],
   "source": [
    "from nltk.stem import WordNetLemmatizer\n",
    "wordnet_lemmatizer =WordNetLemmatizer() \n",
    "text = \"studiesstudying cries cry\" \n",
    "tokenization =nltk.word_tokenize(text)\n",
    "for w in tokenization:\n",
    "    print(\"Lemma for {} is{}\".format(w,wordnet_lemmatizer.lemmatize(w)))"
   ]
  },
  {
   "cell_type": "code",
   "execution_count": 8,
   "id": "d1af58ab",
   "metadata": {},
   "outputs": [
    {
     "name": "stdout",
     "output_type": "stream",
     "text": [
      "[('The', 'DT')]\n",
      "[('pink', 'NN')]\n",
      "[('sweater', 'NN')]\n",
      "[('fit', 'NN')]\n",
      "[('herperfectly', 'RB')]\n"
     ]
    }
   ],
   "source": [
    "import nltk\n",
    "from nltk.tokenize import word_tokenize\n",
    "data=\"The pink sweater fit herperfectly\"\n",
    "words=word_tokenize(data)\n",
    "for word in words:print(nltk.pos_tag([word]))"
   ]
  },
  {
   "cell_type": "code",
   "execution_count": null,
   "id": "ea69faa9",
   "metadata": {},
   "outputs": [],
   "source": []
  }
 ],
 "metadata": {
  "kernelspec": {
   "display_name": "Python 3 (ipykernel)",
   "language": "python",
   "name": "python3"
  },
  "language_info": {
   "codemirror_mode": {
    "name": "ipython",
    "version": 3
   },
   "file_extension": ".py",
   "mimetype": "text/x-python",
   "name": "python",
   "nbconvert_exporter": "python",
   "pygments_lexer": "ipython3",
   "version": "3.11.5"
  }
 },
 "nbformat": 4,
 "nbformat_minor": 5
}
