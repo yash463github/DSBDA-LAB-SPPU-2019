{
 "cells": [
  {
   "cell_type": "code",
   "execution_count": 1,
   "id": "32008def",
   "metadata": {},
   "outputs": [],
   "source": [
    "import pandas as pd\n",
    "from sklearn.feature_extraction.text import TfidfVectorizer"
   ]
  },
  {
   "cell_type": "code",
   "execution_count": 2,
   "id": "841771b1",
   "metadata": {},
   "outputs": [],
   "source": [
    "documentA = 'Jupiter is the largest Planet'\n",
    "documentB = 'Mars is the fourth planet from the sun'"
   ]
  },
  {
   "cell_type": "code",
   "execution_count": 3,
   "id": "bf524be5",
   "metadata": {},
   "outputs": [],
   "source": [
    "bagOfWordsA = documentA.split(' ')\n",
    "bagOfWordsB = documentB.split(' ')"
   ]
  },
  {
   "cell_type": "code",
   "execution_count": 4,
   "id": "9df3978d",
   "metadata": {},
   "outputs": [],
   "source": [
    "uniqueWords =set(bagOfWordsA).union(set(bagOfWordsB))"
   ]
  },
  {
   "cell_type": "code",
   "execution_count": 5,
   "id": "b24c167c",
   "metadata": {},
   "outputs": [],
   "source": [
    "numOfWordsA = dict.fromkeys(uniqueWords, 0)\n",
    "for word in bagOfWordsA:numOfWordsA[word] += 1\n",
    "numOfWordsB = dict.fromkeys(uniqueWords,0)\n",
    "for word in bagOfWordsB:numOfWordsB[word] += 1"
   ]
  },
  {
   "cell_type": "code",
   "execution_count": 7,
   "id": "2778b01a",
   "metadata": {},
   "outputs": [
    {
     "data": {
      "text/plain": [
       "{'Planet': 0.2,\n",
       " 'Mars': 0.0,\n",
       " 'the': 0.2,\n",
       " 'Jupiter': 0.2,\n",
       " 'from': 0.0,\n",
       " 'largest': 0.2,\n",
       " 'is': 0.2,\n",
       " 'sun': 0.0,\n",
       " 'fourth': 0.0,\n",
       " 'planet': 0.0}"
      ]
     },
     "execution_count": 7,
     "metadata": {},
     "output_type": "execute_result"
    }
   ],
   "source": [
    "def computeTF(wordDict, bagOfWords):\n",
    " tfDict = {}\n",
    " bagOfWordsCount =len(bagOfWords)\n",
    " for word, count in wordDict.items():\n",
    "    tfDict[word] = count /float(bagOfWordsCount)\n",
    " return tfDict\n",
    "tfA = computeTF(numOfWordsA,bagOfWordsA)\n",
    "tfB =computeTF(numOfWordsB, bagOfWordsB)\n",
    "tfA"
   ]
  },
  {
   "cell_type": "code",
   "execution_count": 10,
   "id": "8286df8e",
   "metadata": {},
   "outputs": [
    {
     "data": {
      "text/plain": [
       "{'Planet': 0.6931471805599453,\n",
       " 'Mars': 0.6931471805599453,\n",
       " 'the': 0.0,\n",
       " 'Jupiter': 0.6931471805599453,\n",
       " 'from': 0.6931471805599453,\n",
       " 'largest': 0.6931471805599453,\n",
       " 'is': 0.0,\n",
       " 'sun': 0.6931471805599453,\n",
       " 'fourth': 0.6931471805599453,\n",
       " 'planet': 0.6931471805599453}"
      ]
     },
     "execution_count": 10,
     "metadata": {},
     "output_type": "execute_result"
    }
   ],
   "source": [
    "import math\n",
    "def computeIDF(documents):\n",
    "\n",
    " N = len(documents)\n",
    " idfDict = dict.fromkeys(documents[0].keys(),0)\n",
    " for document in documents:\n",
    "    for word, val in document.items():\n",
    "        if val > 0:\n",
    "            idfDict[word] += 1\n",
    " for word, val in idfDict.items():\n",
    "    idfDict[word] = math.log(N/float(val))\n",
    " return idfDict\n",
    "idfs = computeIDF([numOfWordsA,numOfWordsB])\n",
    "idfs"
   ]
  },
  {
   "cell_type": "code",
   "execution_count": 11,
   "id": "657c0b3b",
   "metadata": {},
   "outputs": [
    {
     "data": {
      "text/html": [
       "<div>\n",
       "<style scoped>\n",
       "    .dataframe tbody tr th:only-of-type {\n",
       "        vertical-align: middle;\n",
       "    }\n",
       "\n",
       "    .dataframe tbody tr th {\n",
       "        vertical-align: top;\n",
       "    }\n",
       "\n",
       "    .dataframe thead th {\n",
       "        text-align: right;\n",
       "    }\n",
       "</style>\n",
       "<table border=\"1\" class=\"dataframe\">\n",
       "  <thead>\n",
       "    <tr style=\"text-align: right;\">\n",
       "      <th></th>\n",
       "      <th>Planet</th>\n",
       "      <th>Mars</th>\n",
       "      <th>the</th>\n",
       "      <th>Jupiter</th>\n",
       "      <th>from</th>\n",
       "      <th>largest</th>\n",
       "      <th>is</th>\n",
       "      <th>sun</th>\n",
       "      <th>fourth</th>\n",
       "      <th>planet</th>\n",
       "    </tr>\n",
       "  </thead>\n",
       "  <tbody>\n",
       "    <tr>\n",
       "      <th>0</th>\n",
       "      <td>0.138629</td>\n",
       "      <td>0.000000</td>\n",
       "      <td>0.0</td>\n",
       "      <td>0.138629</td>\n",
       "      <td>0.000000</td>\n",
       "      <td>0.138629</td>\n",
       "      <td>0.0</td>\n",
       "      <td>0.000000</td>\n",
       "      <td>0.000000</td>\n",
       "      <td>0.000000</td>\n",
       "    </tr>\n",
       "    <tr>\n",
       "      <th>1</th>\n",
       "      <td>0.000000</td>\n",
       "      <td>0.086643</td>\n",
       "      <td>0.0</td>\n",
       "      <td>0.000000</td>\n",
       "      <td>0.086643</td>\n",
       "      <td>0.000000</td>\n",
       "      <td>0.0</td>\n",
       "      <td>0.086643</td>\n",
       "      <td>0.086643</td>\n",
       "      <td>0.086643</td>\n",
       "    </tr>\n",
       "  </tbody>\n",
       "</table>\n",
       "</div>"
      ],
      "text/plain": [
       "     Planet      Mars  the   Jupiter      from   largest   is       sun  \\\n",
       "0  0.138629  0.000000  0.0  0.138629  0.000000  0.138629  0.0  0.000000   \n",
       "1  0.000000  0.086643  0.0  0.000000  0.086643  0.000000  0.0  0.086643   \n",
       "\n",
       "     fourth    planet  \n",
       "0  0.000000  0.000000  \n",
       "1  0.086643  0.086643  "
      ]
     },
     "execution_count": 11,
     "metadata": {},
     "output_type": "execute_result"
    }
   ],
   "source": [
    "def computeTFIDF(tfBagOfWords, idfs):\n",
    " tfidf = {}\n",
    " for word, val in tfBagOfWords.items():\n",
    "    tfidf[word] = val * idfs[word]\n",
    " return tfidf\n",
    "tfidfA = computeTFIDF(tfA,idfs)\n",
    "tfidfB = computeTFIDF(tfB,idfs)\n",
    "df = pd.DataFrame([tfidfA,tfidfB])\n",
    "df\n"
   ]
  },
  {
   "cell_type": "code",
   "execution_count": null,
   "id": "b5d88832",
   "metadata": {},
   "outputs": [],
   "source": []
  }
 ],
 "metadata": {
  "kernelspec": {
   "display_name": "Python 3 (ipykernel)",
   "language": "python",
   "name": "python3"
  },
  "language_info": {
   "codemirror_mode": {
    "name": "ipython",
    "version": 3
   },
   "file_extension": ".py",
   "mimetype": "text/x-python",
   "name": "python",
   "nbconvert_exporter": "python",
   "pygments_lexer": "ipython3",
   "version": "3.11.5"
  }
 },
 "nbformat": 4,
 "nbformat_minor": 5
}
